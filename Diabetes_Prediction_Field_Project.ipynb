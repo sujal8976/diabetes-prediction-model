{
  "nbformat": 4,
  "nbformat_minor": 0,
  "metadata": {
    "colab": {
      "provenance": []
    },
    "kernelspec": {
      "name": "python3",
      "display_name": "Python 3"
    },
    "language_info": {
      "name": "python"
    }
  },
  "cells": [
    {
      "cell_type": "markdown",
      "source": [
        "DATA COLLECTION AND PREPROCESSING\n",
        "\n",
        "In this section, we load the dataset, preprocess the data by standardizing the features, and handle class imbalance using SMOTE."
      ],
      "metadata": {
        "id": "g5O077SRheEy"
      }
    },
    {
      "cell_type": "code",
      "source": [
        "import numpy as np\n",
        "import pandas as pd\n",
        "from sklearn.model_selection import train_test_split\n",
        "from sklearn.preprocessing import StandardScaler\n",
        "from imblearn.over_sampling import SMOTE\n",
        "\n",
        "# Load the dataset\n",
        "diabetes_dataset = pd.read_csv('diabetes.csv')\n",
        "\n",
        "# Data description\n",
        "print(\"Dataset Description:\")\n",
        "print(diabetes_dataset.describe())\n",
        "\n",
        "# Splitting data into features (X) and target (Y)\n",
        "X = diabetes_dataset.drop(columns='Outcome', axis=1)\n",
        "Y = diabetes_dataset['Outcome']\n",
        "\n",
        "# Standardize the data\n",
        "scaler = StandardScaler()\n",
        "X = scaler.fit_transform(X)\n",
        "\n",
        "# Handle data imbalance using SMOTE\n",
        "smote = SMOTE(random_state=42)\n",
        "X, Y = smote.fit_resample(X, Y)\n",
        "print(\"After SMOTE - Outcome Counts:\", pd.Series(Y).value_counts())\n",
        "\n",
        "# Split data into train and test sets\n",
        "X_train, X_test, Y_train, Y_test = train_test_split(X, Y, test_size=0.2, stratify=Y, random_state=42)\n",
        "print(\"Data shapes:\", X.shape, X_train.shape, X_test.shape)"
      ],
      "metadata": {
        "colab": {
          "base_uri": "https://localhost:8080/"
        },
        "id": "HCcp815Lhizx",
        "outputId": "dbac19b8-b8ec-4650-8ec9-3ed39a16dd6e"
      },
      "execution_count": null,
      "outputs": [
        {
          "output_type": "stream",
          "name": "stdout",
          "text": [
            "Dataset Description:\n",
            "       Pregnancies     Glucose  BloodPressure  SkinThickness     Insulin  \\\n",
            "count   768.000000  768.000000     768.000000     768.000000  768.000000   \n",
            "mean      3.845052  120.894531      69.105469      20.536458   79.799479   \n",
            "std       3.369578   31.972618      19.355807      15.952218  115.244002   \n",
            "min       0.000000    0.000000       0.000000       0.000000    0.000000   \n",
            "25%       1.000000   99.000000      62.000000       0.000000    0.000000   \n",
            "50%       3.000000  117.000000      72.000000      23.000000   30.500000   \n",
            "75%       6.000000  140.250000      80.000000      32.000000  127.250000   \n",
            "max      17.000000  199.000000     122.000000      99.000000  846.000000   \n",
            "\n",
            "              BMI  DiabetesPedigreeFunction         Age     Outcome  \n",
            "count  768.000000                768.000000  768.000000  768.000000  \n",
            "mean    31.992578                  0.471876   33.240885    0.348958  \n",
            "std      7.884160                  0.331329   11.760232    0.476951  \n",
            "min      0.000000                  0.078000   21.000000    0.000000  \n",
            "25%     27.300000                  0.243750   24.000000    0.000000  \n",
            "50%     32.000000                  0.372500   29.000000    0.000000  \n",
            "75%     36.600000                  0.626250   41.000000    1.000000  \n",
            "max     67.100000                  2.420000   81.000000    1.000000  \n",
            "After SMOTE - Outcome Counts: Outcome\n",
            "1    500\n",
            "0    500\n",
            "Name: count, dtype: int64\n",
            "Data shapes: (1000, 8) (800, 8) (200, 8)\n"
          ]
        }
      ]
    },
    {
      "cell_type": "markdown",
      "source": [
        "EXPLORATORY DATA ANALYSIS (EDA)\n",
        "\n",
        "This section involves describing the dataset to understand its distribution, relationships, and basic statistics."
      ],
      "metadata": {
        "id": "_BqqSy27hmA0"
      }
    },
    {
      "cell_type": "code",
      "source": [
        "# EDA section can include visualizations or further analysis.\n",
        "# In this script, the dataset description from above provides basic exploratory insights.\n",
        "print(\"EDA completed with dataset description above.\")"
      ],
      "metadata": {
        "colab": {
          "base_uri": "https://localhost:8080/"
        },
        "id": "Dw3xBP9Khof7",
        "outputId": "ad6ccfb3-238e-47fa-ad56-72194db75aa7"
      },
      "execution_count": null,
      "outputs": [
        {
          "output_type": "stream",
          "name": "stdout",
          "text": [
            "EDA completed with dataset description above.\n"
          ]
        }
      ]
    },
    {
      "cell_type": "markdown",
      "source": [
        "MACHINE LEARNING MODEL DEVELOPMENT\n",
        "\n",
        "In this section, we define the XGBoost model, perform hyperparameter tuning using GridSearchCV, and train the model with the best parameters."
      ],
      "metadata": {
        "id": "ptydsl2YhvCh"
      }
    },
    {
      "cell_type": "code",
      "source": [
        "from sklearn.model_selection import StratifiedKFold, GridSearchCV\n",
        "from xgboost import XGBClassifier\n",
        "\n",
        "# Define the model\n",
        "xgb_model = XGBClassifier(objective='binary:logistic', random_state=42, eval_metric='logloss')\n",
        "\n",
        "# Hyperparameter tuning using GridSearchCV\n",
        "param_grid = {\n",
        "    'n_estimators': [50, 100, 200],\n",
        "    'max_depth': [3, 5, 7],\n",
        "    'learning_rate': [0.01, 0.1, 0.2],\n",
        "    'colsample_bytree': [0.8, 1.0],\n",
        "    'subsample': [0.8, 1.0]\n",
        "}\n",
        "\n",
        "grid_search = GridSearchCV(estimator=xgb_model, param_grid=param_grid, scoring='accuracy', cv=StratifiedKFold(n_splits=5), verbose=2, n_jobs=-1)\n",
        "grid_search.fit(X_train, Y_train)\n",
        "\n",
        "# Best parameters and model\n",
        "best_xgb = grid_search.best_estimator_\n",
        "print(\"Best Parameters:\", grid_search.best_params_)"
      ],
      "metadata": {
        "colab": {
          "base_uri": "https://localhost:8080/"
        },
        "id": "iHv0yguWhxPk",
        "outputId": "d057c1ee-e972-437d-f0e1-b7ff6571d1fa"
      },
      "execution_count": null,
      "outputs": [
        {
          "output_type": "stream",
          "name": "stdout",
          "text": [
            "Fitting 5 folds for each of 108 candidates, totalling 540 fits\n",
            "Best Parameters: {'colsample_bytree': 1.0, 'learning_rate': 0.1, 'max_depth': 7, 'n_estimators': 100, 'subsample': 0.8}\n"
          ]
        }
      ]
    },
    {
      "cell_type": "markdown",
      "source": [
        "In this section, we define the SVC model."
      ],
      "metadata": {
        "id": "5c833ynuny93"
      }
    },
    {
      "cell_type": "code",
      "source": [
        "from sklearn.svm import SVC\n",
        "from sklearn.metrics import classification_report, confusion_matrix, accuracy_score\n",
        "\n",
        "# Initialize the SVM model\n",
        "svm_model = SVC(kernel='rbf', C=1, gamma='scale', random_state=42)\n",
        "\n",
        "# Train the SVM model\n",
        "svm_model.fit(X_train, Y_train)\n",
        "\n",
        "# Make predictions\n",
        "Y_pred = svm_model.predict(X_test)\n",
        "\n",
        "# Evaluate the model\n",
        "print(\"Confusion Matrix:\")\n",
        "print(confusion_matrix(Y_test, Y_pred))\n",
        "print(\"\\nClassification Report:\")\n",
        "print(classification_report(Y_test, Y_pred))\n",
        "print(\"\\nAccuracy Score:\", accuracy_score(Y_test, Y_pred))"
      ],
      "metadata": {
        "colab": {
          "base_uri": "https://localhost:8080/"
        },
        "id": "BNWoWGf1nmq8",
        "outputId": "60edbc70-0ce5-4258-ea38-f56fe41e3273"
      },
      "execution_count": null,
      "outputs": [
        {
          "output_type": "stream",
          "name": "stdout",
          "text": [
            "Confusion Matrix:\n",
            "[[74 26]\n",
            " [19 81]]\n",
            "\n",
            "Classification Report:\n",
            "              precision    recall  f1-score   support\n",
            "\n",
            "           0       0.80      0.74      0.77       100\n",
            "           1       0.76      0.81      0.78       100\n",
            "\n",
            "    accuracy                           0.78       200\n",
            "   macro avg       0.78      0.78      0.77       200\n",
            "weighted avg       0.78      0.78      0.77       200\n",
            "\n",
            "\n",
            "Accuracy Score: 0.775\n"
          ]
        }
      ]
    },
    {
      "cell_type": "markdown",
      "source": [
        "DISEASE PREDICTION AND RISK ASSESSMENT\n",
        "\n",
        "Here, we evaluate the trained model using accuracy, classification report, and confusion matrix. Additionally, feature importance is visualized."
      ],
      "metadata": {
        "id": "doyC3LcYn7Lw"
      }
    },
    {
      "cell_type": "code",
      "source": [
        "from sklearn.metrics import accuracy_score, classification_report, confusion_matrix\n",
        "import matplotlib.pyplot as plt\n",
        "import seaborn as sns\n",
        "import pickle\n",
        "\n",
        "# Evaluate the model\n",
        "train_predictions = best_xgb.predict(X_train)\n",
        "train_accuracy = accuracy_score(Y_train, train_predictions)\n",
        "print(\"Training Data Accuracy:\", train_accuracy)\n",
        "\n",
        "test_predictions = best_xgb.predict(X_test)\n",
        "test_accuracy = accuracy_score(Y_test, test_predictions)\n",
        "print(\"Test Data Accuracy:\", test_accuracy)\n",
        "\n",
        "# Classification report and confusion matrix\n",
        "print(\"Classification Report:\\n\", classification_report(Y_test, test_predictions))\n",
        "print(\"Confusion Matrix:\\n\", confusion_matrix(Y_test, test_predictions))\n",
        "\n",
        "# Save the model and scaler\n",
        "with open('diabetes_model_xgb.pkl', 'wb') as model_file:\n",
        "    pickle.dump(best_xgb, model_file)\n",
        "with open('scaler.pkl', 'wb') as scaler_file:\n",
        "    pickle.dump(scaler, scaler_file)\n",
        "print(\"XGBoost model and scaler saved successfully!\")\n",
        "\n",
        "# Feature importance visualization\n",
        "feature_importances = pd.DataFrame({\n",
        "    'Feature': diabetes_dataset.columns[:-1],\n",
        "    'Importance': best_xgb.feature_importances_\n",
        "}).sort_values(by='Importance', ascending=False)\n",
        "\n",
        "plt.figure(figsize=(10, 6))\n",
        "sns.barplot(data=feature_importances, x='Importance', y='Feature', palette='viridis')\n",
        "plt.title('Feature Importances in XGBoost')\n",
        "plt.xlabel('Importance Score')\n",
        "plt.ylabel('Feature')\n",
        "plt.tight_layout()\n",
        "plt.savefig('xgb_feature_importances.png')\n",
        "plt.clf()\n",
        "print(\"Feature importances chart saved.\")"
      ],
      "metadata": {
        "colab": {
          "base_uri": "https://localhost:8080/",
          "height": 449
        },
        "id": "wfGxQqash1X4",
        "outputId": "957934e9-9de4-41d8-8024-4bdf54b9b47e"
      },
      "execution_count": null,
      "outputs": [
        {
          "output_type": "stream",
          "name": "stdout",
          "text": [
            "Training Data Accuracy: 0.99875\n",
            "Test Data Accuracy: 0.795\n",
            "Classification Report:\n",
            "               precision    recall  f1-score   support\n",
            "\n",
            "           0       0.82      0.75      0.79       100\n",
            "           1       0.77      0.84      0.80       100\n",
            "\n",
            "    accuracy                           0.80       200\n",
            "   macro avg       0.80      0.79      0.79       200\n",
            "weighted avg       0.80      0.80      0.79       200\n",
            "\n",
            "Confusion Matrix:\n",
            " [[75 25]\n",
            " [16 84]]\n",
            "XGBoost model and scaler saved successfully!\n"
          ]
        },
        {
          "output_type": "stream",
          "name": "stderr",
          "text": [
            "<ipython-input-25-087d6903b1da>:33: FutureWarning: \n",
            "\n",
            "Passing `palette` without assigning `hue` is deprecated and will be removed in v0.14.0. Assign the `y` variable to `hue` and set `legend=False` for the same effect.\n",
            "\n",
            "  sns.barplot(data=feature_importances, x='Importance', y='Feature', palette='viridis')\n"
          ]
        },
        {
          "output_type": "stream",
          "name": "stdout",
          "text": [
            "Feature importances chart saved.\n"
          ]
        },
        {
          "output_type": "display_data",
          "data": {
            "text/plain": [
              "<Figure size 1000x600 with 0 Axes>"
            ]
          },
          "metadata": {}
        }
      ]
    },
    {
      "cell_type": "markdown",
      "source": [
        "Now, using these model for predicting is User is Diabetic or not."
      ],
      "metadata": {
        "id": "6hgD7arAh87k"
      }
    },
    {
      "cell_type": "code",
      "source": [
        "import pickle\n",
        "import numpy as np\n",
        "\n",
        "# Load the trained model\n",
        "with open('diabetes_model_xgb.pkl', 'rb') as model_file:\n",
        "    loaded_model = pickle.load(model_file)\n",
        "\n",
        "# Load the scaler object\n",
        "with open('scaler.pkl', 'rb') as scaler_file:\n",
        "    scaler = pickle.load(scaler_file)\n",
        "\n",
        "# Function for predicting diabetes\n",
        "def predict_diabetes(input_data):\n",
        "    # Convert input data to a numpy array and reshape it\n",
        "    input_data_array = np.array(input_data).reshape(1, -1)\n",
        "\n",
        "    # Scale the input data using the loaded scaler\n",
        "    input_data_scaled = scaler.transform(input_data_array)\n",
        "\n",
        "    # Make predictions using the loaded model\n",
        "    prediction = loaded_model.predict(input_data_scaled)\n",
        "    proba = loaded_model.predict_proba(input_data_scaled)\n",
        "\n",
        "    return prediction[0], proba[0]\n",
        "\n",
        "# Input data\n",
        "input_data = [0, 137, 40, 35, 168, 43.1, 2.288, 33]\n",
        "\n",
        "# Predict diabetes\n",
        "prediction, probability = predict_diabetes(input_data)\n",
        "\n",
        "# Output the results\n",
        "print(\"\\nPrediction for input data:\")\n",
        "if prediction == 0:\n",
        "    print(\"The person is not diabetic\")\n",
        "else:\n",
        "    print(\"The person is diabetic\")\n",
        "print(f\"Probability of being diabetic: {probability[1]*100:.2f}%\")\n"
      ],
      "metadata": {
        "colab": {
          "base_uri": "https://localhost:8080/"
        },
        "id": "i-QyG1EsT50A",
        "outputId": "e1afa97d-fe80-473d-8512-509cbdf06eb7"
      },
      "execution_count": null,
      "outputs": [
        {
          "output_type": "stream",
          "name": "stdout",
          "text": [
            "\n",
            "Prediction for input data:\n",
            "The person is diabetic\n",
            "Probability of being diabetic: 94.49%\n"
          ]
        },
        {
          "output_type": "stream",
          "name": "stderr",
          "text": [
            "/usr/local/lib/python3.10/dist-packages/sklearn/base.py:493: UserWarning: X does not have valid feature names, but StandardScaler was fitted with feature names\n",
            "  warnings.warn(\n"
          ]
        }
      ]
    },
    {
      "cell_type": "code",
      "source": [
        "# Boxplot for each column\n",
        "for column in diabetes_dataset.columns:\n",
        "    plt.figure(figsize=(8, 6))\n",
        "    sns.boxplot(y=diabetes_dataset[column], palette='Set2')\n",
        "    plt.title(f'Boxplot of {column}')\n",
        "    plt.ylabel(column)\n",
        "    plt.tight_layout()\n",
        "    plt.savefig(f'{column}_boxplot.png')\n",
        "    plt.clf()\n",
        "    print(f'Boxplot for {column} saved.')\n",
        "\n",
        "# Heatmap of correlation matrix\n",
        "plt.figure(figsize=(10, 8))\n",
        "correlation_matrix = diabetes_dataset.corr()\n",
        "sns.heatmap(correlation_matrix, annot=True, cmap='coolwarm', fmt='.2f')\n",
        "plt.title('Heatmap of Feature Correlations')\n",
        "plt.tight_layout()\n",
        "plt.savefig('heatmap_correlation.png')\n",
        "plt.clf()\n",
        "print(\"Heatmap of feature correlations saved.\")\n",
        "\n",
        "# Bar chart for Outcome counts\n",
        "outcome_counts = diabetes_dataset['Outcome'].value_counts()\n",
        "plt.figure(figsize=(8, 6))\n",
        "sns.barplot(x=outcome_counts.index, y=outcome_counts.values, palette='husl')\n",
        "plt.title('Outcome Counts')\n",
        "plt.xlabel('Outcome')\n",
        "plt.ylabel('Count')\n",
        "plt.tight_layout()\n",
        "plt.savefig('outcome_counts_barchart.png')\n",
        "plt.clf()\n",
        "print(\"Bar chart for Outcome counts saved.\")\n",
        "\n",
        "# Line chart of feature averages by Outcome\n",
        "feature_means = diabetes_dataset.groupby('Outcome').mean().T\n",
        "plt.figure(figsize=(12, 6))\n",
        "for outcome in feature_means.columns:\n",
        "    plt.plot(feature_means.index, feature_means[outcome], marker='o', label=f'Outcome {outcome}')\n",
        "plt.title('Feature Averages by Outcome')\n",
        "plt.xlabel('Features')\n",
        "plt.ylabel('Average Value')\n",
        "plt.xticks(rotation=45)\n",
        "plt.legend()\n",
        "plt.tight_layout()\n",
        "plt.savefig('feature_averages_linechart.png')\n",
        "plt.clf()\n",
        "print(\"Line chart of feature averages by Outcome saved.\")\n",
        "\n",
        "# Histogram for each column\n",
        "for column in diabetes_dataset.columns:\n",
        "    plt.figure(figsize=(8, 6))\n",
        "    sns.histplot(diabetes_dataset[column], kde=True, color='skyblue', bins=30)\n",
        "    plt.title(f'Histogram of {column}')\n",
        "    plt.xlabel(column)\n",
        "    plt.ylabel('Frequency')\n",
        "    plt.tight_layout()\n",
        "    plt.savefig(f'{column}_histogram.png')\n",
        "    plt.clf()\n",
        "    print(f'Histogram for {column} saved.')\n",
        "\n",
        "# Pairplot to visualize relationships\n",
        "sns.pairplot(diabetes_dataset, hue='Outcome', palette='viridis')\n",
        "plt.savefig('pairplot_features.png')\n",
        "plt.clf()\n",
        "print(\"Pairplot for feature relationships saved.\")\n"
      ],
      "metadata": {
        "colab": {
          "base_uri": "https://localhost:8080/",
          "height": 1000
        },
        "id": "nGQZwE6xgRyV",
        "outputId": "b104a423-1b46-445c-f20b-f2c57420a99f"
      },
      "execution_count": null,
      "outputs": [
        {
          "output_type": "stream",
          "name": "stderr",
          "text": [
            "<ipython-input-27-c56bcccb63cf>:4: FutureWarning: \n",
            "\n",
            "Passing `palette` without assigning `hue` is deprecated and will be removed in v0.14.0. Assign the `x` variable to `hue` and set `legend=False` for the same effect.\n",
            "\n",
            "  sns.boxplot(y=diabetes_dataset[column], palette='Set2')\n"
          ]
        },
        {
          "output_type": "stream",
          "name": "stdout",
          "text": [
            "Boxplot for Pregnancies saved.\n"
          ]
        },
        {
          "output_type": "stream",
          "name": "stderr",
          "text": [
            "<ipython-input-27-c56bcccb63cf>:4: FutureWarning: \n",
            "\n",
            "Passing `palette` without assigning `hue` is deprecated and will be removed in v0.14.0. Assign the `x` variable to `hue` and set `legend=False` for the same effect.\n",
            "\n",
            "  sns.boxplot(y=diabetes_dataset[column], palette='Set2')\n"
          ]
        },
        {
          "output_type": "stream",
          "name": "stdout",
          "text": [
            "Boxplot for Glucose saved.\n"
          ]
        },
        {
          "output_type": "stream",
          "name": "stderr",
          "text": [
            "<ipython-input-27-c56bcccb63cf>:4: FutureWarning: \n",
            "\n",
            "Passing `palette` without assigning `hue` is deprecated and will be removed in v0.14.0. Assign the `x` variable to `hue` and set `legend=False` for the same effect.\n",
            "\n",
            "  sns.boxplot(y=diabetes_dataset[column], palette='Set2')\n"
          ]
        },
        {
          "output_type": "stream",
          "name": "stdout",
          "text": [
            "Boxplot for BloodPressure saved.\n"
          ]
        },
        {
          "output_type": "stream",
          "name": "stderr",
          "text": [
            "<ipython-input-27-c56bcccb63cf>:4: FutureWarning: \n",
            "\n",
            "Passing `palette` without assigning `hue` is deprecated and will be removed in v0.14.0. Assign the `x` variable to `hue` and set `legend=False` for the same effect.\n",
            "\n",
            "  sns.boxplot(y=diabetes_dataset[column], palette='Set2')\n"
          ]
        },
        {
          "output_type": "stream",
          "name": "stdout",
          "text": [
            "Boxplot for SkinThickness saved.\n"
          ]
        },
        {
          "output_type": "stream",
          "name": "stderr",
          "text": [
            "<ipython-input-27-c56bcccb63cf>:4: FutureWarning: \n",
            "\n",
            "Passing `palette` without assigning `hue` is deprecated and will be removed in v0.14.0. Assign the `x` variable to `hue` and set `legend=False` for the same effect.\n",
            "\n",
            "  sns.boxplot(y=diabetes_dataset[column], palette='Set2')\n"
          ]
        },
        {
          "output_type": "stream",
          "name": "stdout",
          "text": [
            "Boxplot for Insulin saved.\n"
          ]
        },
        {
          "output_type": "stream",
          "name": "stderr",
          "text": [
            "<ipython-input-27-c56bcccb63cf>:4: FutureWarning: \n",
            "\n",
            "Passing `palette` without assigning `hue` is deprecated and will be removed in v0.14.0. Assign the `x` variable to `hue` and set `legend=False` for the same effect.\n",
            "\n",
            "  sns.boxplot(y=diabetes_dataset[column], palette='Set2')\n"
          ]
        },
        {
          "output_type": "stream",
          "name": "stdout",
          "text": [
            "Boxplot for BMI saved.\n"
          ]
        },
        {
          "output_type": "stream",
          "name": "stderr",
          "text": [
            "<ipython-input-27-c56bcccb63cf>:4: FutureWarning: \n",
            "\n",
            "Passing `palette` without assigning `hue` is deprecated and will be removed in v0.14.0. Assign the `x` variable to `hue` and set `legend=False` for the same effect.\n",
            "\n",
            "  sns.boxplot(y=diabetes_dataset[column], palette='Set2')\n"
          ]
        },
        {
          "output_type": "stream",
          "name": "stdout",
          "text": [
            "Boxplot for DiabetesPedigreeFunction saved.\n"
          ]
        },
        {
          "output_type": "stream",
          "name": "stderr",
          "text": [
            "<ipython-input-27-c56bcccb63cf>:4: FutureWarning: \n",
            "\n",
            "Passing `palette` without assigning `hue` is deprecated and will be removed in v0.14.0. Assign the `x` variable to `hue` and set `legend=False` for the same effect.\n",
            "\n",
            "  sns.boxplot(y=diabetes_dataset[column], palette='Set2')\n"
          ]
        },
        {
          "output_type": "stream",
          "name": "stdout",
          "text": [
            "Boxplot for Age saved.\n"
          ]
        },
        {
          "output_type": "stream",
          "name": "stderr",
          "text": [
            "<ipython-input-27-c56bcccb63cf>:4: FutureWarning: \n",
            "\n",
            "Passing `palette` without assigning `hue` is deprecated and will be removed in v0.14.0. Assign the `x` variable to `hue` and set `legend=False` for the same effect.\n",
            "\n",
            "  sns.boxplot(y=diabetes_dataset[column], palette='Set2')\n"
          ]
        },
        {
          "output_type": "stream",
          "name": "stdout",
          "text": [
            "Boxplot for Outcome saved.\n",
            "Heatmap of feature correlations saved.\n"
          ]
        },
        {
          "output_type": "stream",
          "name": "stderr",
          "text": [
            "<ipython-input-27-c56bcccb63cf>:25: FutureWarning: \n",
            "\n",
            "Passing `palette` without assigning `hue` is deprecated and will be removed in v0.14.0. Assign the `x` variable to `hue` and set `legend=False` for the same effect.\n",
            "\n",
            "  sns.barplot(x=outcome_counts.index, y=outcome_counts.values, palette='husl')\n"
          ]
        },
        {
          "output_type": "stream",
          "name": "stdout",
          "text": [
            "Bar chart for Outcome counts saved.\n",
            "Line chart of feature averages by Outcome saved.\n",
            "Histogram for Pregnancies saved.\n",
            "Histogram for Glucose saved.\n",
            "Histogram for BloodPressure saved.\n",
            "Histogram for SkinThickness saved.\n",
            "Histogram for Insulin saved.\n",
            "Histogram for BMI saved.\n",
            "Histogram for DiabetesPedigreeFunction saved.\n",
            "Histogram for Age saved.\n"
          ]
        },
        {
          "output_type": "stream",
          "name": "stderr",
          "text": [
            "<ipython-input-27-c56bcccb63cf>:51: RuntimeWarning: More than 20 figures have been opened. Figures created through the pyplot interface (`matplotlib.pyplot.figure`) are retained until explicitly closed and may consume too much memory. (To control this warning, see the rcParam `figure.max_open_warning`). Consider using `matplotlib.pyplot.close()`.\n",
            "  plt.figure(figsize=(8, 6))\n"
          ]
        },
        {
          "output_type": "stream",
          "name": "stdout",
          "text": [
            "Histogram for Outcome saved.\n",
            "Pairplot for feature relationships saved.\n"
          ]
        },
        {
          "output_type": "display_data",
          "data": {
            "text/plain": [
              "<Figure size 800x600 with 0 Axes>"
            ]
          },
          "metadata": {}
        },
        {
          "output_type": "display_data",
          "data": {
            "text/plain": [
              "<Figure size 800x600 with 0 Axes>"
            ]
          },
          "metadata": {}
        },
        {
          "output_type": "display_data",
          "data": {
            "text/plain": [
              "<Figure size 800x600 with 0 Axes>"
            ]
          },
          "metadata": {}
        },
        {
          "output_type": "display_data",
          "data": {
            "text/plain": [
              "<Figure size 800x600 with 0 Axes>"
            ]
          },
          "metadata": {}
        },
        {
          "output_type": "display_data",
          "data": {
            "text/plain": [
              "<Figure size 800x600 with 0 Axes>"
            ]
          },
          "metadata": {}
        },
        {
          "output_type": "display_data",
          "data": {
            "text/plain": [
              "<Figure size 800x600 with 0 Axes>"
            ]
          },
          "metadata": {}
        },
        {
          "output_type": "display_data",
          "data": {
            "text/plain": [
              "<Figure size 800x600 with 0 Axes>"
            ]
          },
          "metadata": {}
        },
        {
          "output_type": "display_data",
          "data": {
            "text/plain": [
              "<Figure size 800x600 with 0 Axes>"
            ]
          },
          "metadata": {}
        },
        {
          "output_type": "display_data",
          "data": {
            "text/plain": [
              "<Figure size 800x600 with 0 Axes>"
            ]
          },
          "metadata": {}
        },
        {
          "output_type": "display_data",
          "data": {
            "text/plain": [
              "<Figure size 1000x800 with 0 Axes>"
            ]
          },
          "metadata": {}
        },
        {
          "output_type": "display_data",
          "data": {
            "text/plain": [
              "<Figure size 800x600 with 0 Axes>"
            ]
          },
          "metadata": {}
        },
        {
          "output_type": "display_data",
          "data": {
            "text/plain": [
              "<Figure size 1200x600 with 0 Axes>"
            ]
          },
          "metadata": {}
        },
        {
          "output_type": "display_data",
          "data": {
            "text/plain": [
              "<Figure size 800x600 with 0 Axes>"
            ]
          },
          "metadata": {}
        },
        {
          "output_type": "display_data",
          "data": {
            "text/plain": [
              "<Figure size 800x600 with 0 Axes>"
            ]
          },
          "metadata": {}
        },
        {
          "output_type": "display_data",
          "data": {
            "text/plain": [
              "<Figure size 800x600 with 0 Axes>"
            ]
          },
          "metadata": {}
        },
        {
          "output_type": "display_data",
          "data": {
            "text/plain": [
              "<Figure size 800x600 with 0 Axes>"
            ]
          },
          "metadata": {}
        },
        {
          "output_type": "display_data",
          "data": {
            "text/plain": [
              "<Figure size 800x600 with 0 Axes>"
            ]
          },
          "metadata": {}
        },
        {
          "output_type": "display_data",
          "data": {
            "text/plain": [
              "<Figure size 800x600 with 0 Axes>"
            ]
          },
          "metadata": {}
        },
        {
          "output_type": "display_data",
          "data": {
            "text/plain": [
              "<Figure size 800x600 with 0 Axes>"
            ]
          },
          "metadata": {}
        },
        {
          "output_type": "display_data",
          "data": {
            "text/plain": [
              "<Figure size 800x600 with 0 Axes>"
            ]
          },
          "metadata": {}
        },
        {
          "output_type": "display_data",
          "data": {
            "text/plain": [
              "<Figure size 800x600 with 0 Axes>"
            ]
          },
          "metadata": {}
        },
        {
          "output_type": "display_data",
          "data": {
            "text/plain": [
              "<Figure size 2074.36x2000 with 0 Axes>"
            ]
          },
          "metadata": {}
        }
      ]
    }
  ]
}